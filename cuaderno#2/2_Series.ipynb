{
  "nbformat": 4,
  "nbformat_minor": 0,
  "metadata": {
    "colab": {
      "name": "2.Series.ipynb",
      "provenance": []
    },
    "kernelspec": {
      "name": "python3",
      "display_name": "Python 3"
    }
  },
  "cells": [
    {
      "cell_type": "markdown",
      "metadata": {
        "id": "orwIqxYHr7Ya"
      },
      "source": [
        "# Series e Indexación y selección de datos"
      ]
    },
    {
      "cell_type": "code",
      "metadata": {
        "id": "JuPdeMVNri9Y"
      },
      "source": [
        "import pandas as pd"
      ],
      "execution_count": null,
      "outputs": []
    },
    {
      "cell_type": "markdown",
      "metadata": {
        "id": "1kWu0Zclu7o1"
      },
      "source": [
        "Creando una serie con pandas"
      ]
    },
    {
      "cell_type": "code",
      "metadata": {
        "id": "omaCtxhYsM5n",
        "colab": {
          "base_uri": "https://localhost:8080/",
          "height": 121
        },
        "outputId": "13574649-4e81-496e-cb31-74ae7d590467"
      },
      "source": [
        "pd.Series([10,9,8,7,6])"
      ],
      "execution_count": null,
      "outputs": [
        {
          "output_type": "execute_result",
          "data": {
            "text/plain": [
              "0    10\n",
              "1     9\n",
              "2     8\n",
              "3     7\n",
              "4     6\n",
              "dtype: int64"
            ]
          },
          "metadata": {
            "tags": []
          },
          "execution_count": 2
        }
      ]
    },
    {
      "cell_type": "markdown",
      "metadata": {
        "id": "FGMYUIczu6pN"
      },
      "source": [
        "Creando y definiendo una serie con pandas"
      ]
    },
    {
      "cell_type": "code",
      "metadata": {
        "id": "OPnqIAu_sTfI"
      },
      "source": [
        "serie = pd.Series([10,9,8,7,6])"
      ],
      "execution_count": null,
      "outputs": []
    },
    {
      "cell_type": "markdown",
      "metadata": {
        "id": "H9Faod1LvB_7"
      },
      "source": [
        "Obteniendo los valores de la serie"
      ]
    },
    {
      "cell_type": "code",
      "metadata": {
        "id": "SSWRcGtksWne",
        "colab": {
          "base_uri": "https://localhost:8080/",
          "height": 34
        },
        "outputId": "64936150-a33e-4c39-c488-be553d38590d"
      },
      "source": [
        "serie.values"
      ],
      "execution_count": null,
      "outputs": [
        {
          "output_type": "execute_result",
          "data": {
            "text/plain": [
              "array([10,  9,  8,  7,  6])"
            ]
          },
          "metadata": {
            "tags": []
          },
          "execution_count": 4
        }
      ]
    },
    {
      "cell_type": "markdown",
      "metadata": {
        "id": "ebgvO8uVvH_W"
      },
      "source": [
        "Obteniendo los indices de los valores de la serie."
      ]
    },
    {
      "cell_type": "code",
      "metadata": {
        "id": "nu0FReh3sX9q",
        "colab": {
          "base_uri": "https://localhost:8080/",
          "height": 34
        },
        "outputId": "936e8a37-7117-497f-ae9c-e61ec8486fb6"
      },
      "source": [
        "serie.index"
      ],
      "execution_count": null,
      "outputs": [
        {
          "output_type": "execute_result",
          "data": {
            "text/plain": [
              "RangeIndex(start=0, stop=5, step=1)"
            ]
          },
          "metadata": {
            "tags": []
          },
          "execution_count": 5
        }
      ]
    },
    {
      "cell_type": "markdown",
      "metadata": {
        "id": "hCleZgs-vXMw"
      },
      "source": [
        "Tamaño de la serie"
      ]
    },
    {
      "cell_type": "code",
      "metadata": {
        "id": "JC6v3tf3seoM",
        "colab": {
          "base_uri": "https://localhost:8080/",
          "height": 34
        },
        "outputId": "a27cb2e9-225a-4a2c-c3a7-f70075a64ed8"
      },
      "source": [
        "serie.shape"
      ],
      "execution_count": null,
      "outputs": [
        {
          "output_type": "execute_result",
          "data": {
            "text/plain": [
              "(5,)"
            ]
          },
          "metadata": {
            "tags": []
          },
          "execution_count": 6
        }
      ]
    },
    {
      "cell_type": "markdown",
      "metadata": {
        "id": "Ur482MJJvaKf"
      },
      "source": [
        "Obteniendo valores de la serie a través de sus índices."
      ]
    },
    {
      "cell_type": "code",
      "metadata": {
        "id": "nrFH8wcRsrX3",
        "colab": {
          "base_uri": "https://localhost:8080/",
          "height": 34
        },
        "outputId": "fbd5d125-9493-4256-8dff-5f9d5f1bc89f"
      },
      "source": [
        "serie[3]"
      ],
      "execution_count": null,
      "outputs": [
        {
          "output_type": "execute_result",
          "data": {
            "text/plain": [
              "7"
            ]
          },
          "metadata": {
            "tags": []
          },
          "execution_count": 7
        }
      ]
    },
    {
      "cell_type": "code",
      "metadata": {
        "id": "DGk_zni1sw0r",
        "colab": {
          "base_uri": "https://localhost:8080/",
          "height": 86
        },
        "outputId": "5119b961-0d33-4cee-c09d-a09bd80f7b00"
      },
      "source": [
        "serie[[0,4,2]]"
      ],
      "execution_count": null,
      "outputs": [
        {
          "output_type": "execute_result",
          "data": {
            "text/plain": [
              "0    10\n",
              "4     6\n",
              "2     8\n",
              "dtype: int64"
            ]
          },
          "metadata": {
            "tags": []
          },
          "execution_count": 8
        }
      ]
    },
    {
      "cell_type": "markdown",
      "metadata": {
        "id": "7DJrYIrQvgTJ"
      },
      "source": [
        "Definiendo nuevos indices para la serie"
      ]
    },
    {
      "cell_type": "code",
      "metadata": {
        "id": "20K7ufSSs0Lz",
        "colab": {
          "base_uri": "https://localhost:8080/",
          "height": 121
        },
        "outputId": "1e1a0879-b750-488d-af24-31df339b845f"
      },
      "source": [
        "serie = pd.Series([10,9,8,7,6], index = ['a', 'b', 'c', 'd', 'e'])\n",
        "serie"
      ],
      "execution_count": null,
      "outputs": [
        {
          "output_type": "execute_result",
          "data": {
            "text/plain": [
              "a    10\n",
              "b     9\n",
              "c     8\n",
              "d     7\n",
              "e     6\n",
              "dtype: int64"
            ]
          },
          "metadata": {
            "tags": []
          },
          "execution_count": 9
        }
      ]
    },
    {
      "cell_type": "code",
      "metadata": {
        "id": "8qjeaMT2tBZr",
        "colab": {
          "base_uri": "https://localhost:8080/",
          "height": 34
        },
        "outputId": "4a7e6e92-6c75-48db-ef4e-110d14260b2b"
      },
      "source": [
        "serie['c']"
      ],
      "execution_count": null,
      "outputs": [
        {
          "output_type": "execute_result",
          "data": {
            "text/plain": [
              "8"
            ]
          },
          "metadata": {
            "tags": []
          },
          "execution_count": 10
        }
      ]
    },
    {
      "cell_type": "code",
      "metadata": {
        "id": "WVvNbnSgtGDg",
        "colab": {
          "base_uri": "https://localhost:8080/",
          "height": 86
        },
        "outputId": "8cf1234c-26b2-4389-9c46-40c6ce170264"
      },
      "source": [
        "serie[['c', 'd', 'e']]"
      ],
      "execution_count": null,
      "outputs": [
        {
          "output_type": "execute_result",
          "data": {
            "text/plain": [
              "c    8\n",
              "d    7\n",
              "e    6\n",
              "dtype: int64"
            ]
          },
          "metadata": {
            "tags": []
          },
          "execution_count": 11
        }
      ]
    },
    {
      "cell_type": "code",
      "metadata": {
        "id": "KuaArB2mtJ2X",
        "colab": {
          "base_uri": "https://localhost:8080/",
          "height": 104
        },
        "outputId": "304ffa1e-8235-41f1-8611-cb2f41675d77"
      },
      "source": [
        "serie['b': 'e']"
      ],
      "execution_count": null,
      "outputs": [
        {
          "output_type": "execute_result",
          "data": {
            "text/plain": [
              "b    9\n",
              "c    8\n",
              "d    7\n",
              "e    6\n",
              "dtype: int64"
            ]
          },
          "metadata": {
            "tags": []
          },
          "execution_count": 12
        }
      ]
    },
    {
      "cell_type": "markdown",
      "metadata": {
        "id": "Dk7o7nxmvlMK"
      },
      "source": [
        "Trabajando con diccionario"
      ]
    },
    {
      "cell_type": "code",
      "metadata": {
        "id": "_YGoIDEptP61",
        "colab": {
          "base_uri": "https://localhost:8080/",
          "height": 34
        },
        "outputId": "135a8272-3bc8-4e7a-a7bd-a32601ae0276"
      },
      "source": [
        "dict_data = {'CO':100,'MX':200,'AR':300}\n",
        "dict_data"
      ],
      "execution_count": null,
      "outputs": [
        {
          "output_type": "execute_result",
          "data": {
            "text/plain": [
              "{'AR': 300, 'CO': 100, 'MX': 200}"
            ]
          },
          "metadata": {
            "tags": []
          },
          "execution_count": 13
        }
      ]
    },
    {
      "cell_type": "code",
      "metadata": {
        "id": "1lSffBlrtgtD",
        "colab": {
          "base_uri": "https://localhost:8080/",
          "height": 34
        },
        "outputId": "da8017f6-1fa4-405d-b2cf-df96407af21e"
      },
      "source": [
        "dict_data.keys()"
      ],
      "execution_count": null,
      "outputs": [
        {
          "output_type": "execute_result",
          "data": {
            "text/plain": [
              "dict_keys(['CO', 'MX', 'AR'])"
            ]
          },
          "metadata": {
            "tags": []
          },
          "execution_count": 14
        }
      ]
    },
    {
      "cell_type": "code",
      "metadata": {
        "id": "-092TsJCtp2W",
        "colab": {
          "base_uri": "https://localhost:8080/",
          "height": 34
        },
        "outputId": "0261ed94-51bc-4ce2-8208-d0d9b738af5e"
      },
      "source": [
        "dict_data['MX']"
      ],
      "execution_count": null,
      "outputs": [
        {
          "output_type": "execute_result",
          "data": {
            "text/plain": [
              "200"
            ]
          },
          "metadata": {
            "tags": []
          },
          "execution_count": 15
        }
      ]
    },
    {
      "cell_type": "markdown",
      "metadata": {
        "id": "yRHSv4lzvpJC"
      },
      "source": [
        "Definiendo el diccionario como serie"
      ]
    },
    {
      "cell_type": "code",
      "metadata": {
        "id": "oOCfcwuxt2tx",
        "colab": {
          "base_uri": "https://localhost:8080/",
          "height": 86
        },
        "outputId": "6908e15a-805e-481a-af67-cf19c4bd866f"
      },
      "source": [
        "pd.Series(dict_data)"
      ],
      "execution_count": null,
      "outputs": [
        {
          "output_type": "execute_result",
          "data": {
            "text/plain": [
              "CO    100\n",
              "MX    200\n",
              "AR    300\n",
              "dtype: int64"
            ]
          },
          "metadata": {
            "tags": []
          },
          "execution_count": 16
        }
      ]
    },
    {
      "cell_type": "code",
      "metadata": {
        "id": "zwiteq5TuBix",
        "colab": {
          "base_uri": "https://localhost:8080/",
          "height": 86
        },
        "outputId": "07963880-d009-4a32-aae9-fd5a51cecf98"
      },
      "source": [
        "pd.Series(dict_data, index=['CO', 'MX', 'PE'])"
      ],
      "execution_count": null,
      "outputs": [
        {
          "output_type": "execute_result",
          "data": {
            "text/plain": [
              "CO    100.0\n",
              "MX    200.0\n",
              "PE      NaN\n",
              "dtype: float64"
            ]
          },
          "metadata": {
            "tags": []
          },
          "execution_count": 17
        }
      ]
    },
    {
      "cell_type": "markdown",
      "metadata": {
        "id": "3VXrWhHHvxNe"
      },
      "source": [
        "Trabajando con valores nulos"
      ]
    },
    {
      "cell_type": "code",
      "metadata": {
        "id": "YhvC8n2EuMO5"
      },
      "source": [
        "import numpy as np"
      ],
      "execution_count": null,
      "outputs": []
    },
    {
      "cell_type": "code",
      "metadata": {
        "id": "moePqb0HuXRS",
        "colab": {
          "base_uri": "https://localhost:8080/",
          "height": 34
        },
        "outputId": "11a5c9fa-9f7e-43cc-c5c3-605fcbdf48be"
      },
      "source": [
        "np.nan"
      ],
      "execution_count": null,
      "outputs": [
        {
          "output_type": "execute_result",
          "data": {
            "text/plain": [
              "nan"
            ]
          },
          "metadata": {
            "tags": []
          },
          "execution_count": 19
        }
      ]
    },
    {
      "cell_type": "code",
      "metadata": {
        "id": "EWWgWWqHuYcR",
        "colab": {
          "base_uri": "https://localhost:8080/",
          "height": 34
        },
        "outputId": "43d19932-dd54-41ec-e969-61a9cafe36e4"
      },
      "source": [
        "np.nan + 10"
      ],
      "execution_count": null,
      "outputs": [
        {
          "output_type": "execute_result",
          "data": {
            "text/plain": [
              "nan"
            ]
          },
          "metadata": {
            "tags": []
          },
          "execution_count": 20
        }
      ]
    },
    {
      "cell_type": "code",
      "metadata": {
        "id": "7i1DcMi4ubBR",
        "colab": {
          "base_uri": "https://localhost:8080/",
          "height": 34
        },
        "outputId": "e1285ac5-64a8-45ff-94b4-3df561f54d90"
      },
      "source": [
        "np.nan * 10"
      ],
      "execution_count": null,
      "outputs": [
        {
          "output_type": "execute_result",
          "data": {
            "text/plain": [
              "nan"
            ]
          },
          "metadata": {
            "tags": []
          },
          "execution_count": 21
        }
      ]
    },
    {
      "cell_type": "code",
      "metadata": {
        "id": "ElH4OPpwuc1v",
        "colab": {
          "base_uri": "https://localhost:8080/",
          "height": 86
        },
        "outputId": "5f546b22-78a4-4fc3-fe78-d351d70661d5"
      },
      "source": [
        "serie = pd.Series(dict_data, index=['CO', 'MX', 'PE'])\n",
        "serie"
      ],
      "execution_count": null,
      "outputs": [
        {
          "output_type": "execute_result",
          "data": {
            "text/plain": [
              "CO    100.0\n",
              "MX    200.0\n",
              "PE      NaN\n",
              "dtype: float64"
            ]
          },
          "metadata": {
            "tags": []
          },
          "execution_count": 22
        }
      ]
    },
    {
      "cell_type": "code",
      "metadata": {
        "id": "3ipkPSGUujg3",
        "colab": {
          "base_uri": "https://localhost:8080/",
          "height": 86
        },
        "outputId": "13eebd39-783b-4045-c104-a5952d18da0a"
      },
      "source": [
        "serie.isnull()"
      ],
      "execution_count": null,
      "outputs": [
        {
          "output_type": "execute_result",
          "data": {
            "text/plain": [
              "CO    False\n",
              "MX    False\n",
              "PE     True\n",
              "dtype: bool"
            ]
          },
          "metadata": {
            "tags": []
          },
          "execution_count": 23
        }
      ]
    },
    {
      "cell_type": "code",
      "metadata": {
        "id": "2Xi0J8M1umWa",
        "colab": {
          "base_uri": "https://localhost:8080/",
          "height": 86
        },
        "outputId": "1019dae1-2fd8-4a67-e771-5c34b63da5e2"
      },
      "source": [
        "serie.notnull()"
      ],
      "execution_count": null,
      "outputs": [
        {
          "output_type": "execute_result",
          "data": {
            "text/plain": [
              "CO     True\n",
              "MX     True\n",
              "PE    False\n",
              "dtype: bool"
            ]
          },
          "metadata": {
            "tags": []
          },
          "execution_count": 24
        }
      ]
    },
    {
      "cell_type": "markdown",
      "metadata": {
        "id": "e-lrUzgav-bB"
      },
      "source": [
        "Filtrando de los datos.\n"
      ]
    },
    {
      "cell_type": "markdown",
      "metadata": {
        "id": "1EUI7nMOwBNt"
      },
      "source": [
        "Esta funcion adicionalmente nos regresa un booleano indicandonos si existe (TRUE) o no existe (FALSE) algun nan"
      ]
    },
    {
      "cell_type": "code",
      "metadata": {
        "id": "dLW98jitutbo",
        "colab": {
          "base_uri": "https://localhost:8080/",
          "height": 34
        },
        "outputId": "3d47c3c7-3fe3-4c33-ca1e-a991f1da108d"
      },
      "source": [
        "serie.isnull().any()"
      ],
      "execution_count": null,
      "outputs": [
        {
          "output_type": "execute_result",
          "data": {
            "text/plain": [
              "True"
            ]
          },
          "metadata": {
            "tags": []
          },
          "execution_count": 25
        }
      ]
    },
    {
      "cell_type": "markdown",
      "metadata": {
        "id": "rYlXqZ6HwUYl"
      },
      "source": [
        "si hacemos **sr[sr.notnull()]** nos regresa los valores de la serie que “NO” son nulos.\n"
      ]
    },
    {
      "cell_type": "code",
      "metadata": {
        "id": "3-1U4Z8GwFNk",
        "colab": {
          "base_uri": "https://localhost:8080/",
          "height": 69
        },
        "outputId": "a127f514-09d7-40f3-cf86-0bd41c7e7981"
      },
      "source": [
        "serie[serie.notnull()]"
      ],
      "execution_count": null,
      "outputs": [
        {
          "output_type": "execute_result",
          "data": {
            "text/plain": [
              "CO    100.0\n",
              "MX    200.0\n",
              "dtype: float64"
            ]
          },
          "metadata": {
            "tags": []
          },
          "execution_count": 26
        }
      ]
    }
  ]
}